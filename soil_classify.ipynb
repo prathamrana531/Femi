{
  "cells": [
    {
      "cell_type": "code",
      "execution_count": 1,
      "metadata": {
        "id": "90du5wPYa_X1"
      },
      "outputs": [],
      "source": [
        "import matplotlib.pyplot as plt \n",
        "import seaborn as sns\n",
        "\n",
        "import keras\n",
        "from keras.models import Sequential\n",
        "from keras.layers import Dense, Conv2D, MaxPool2D, Flatten, Dropout\n",
        "from keras.preprocessing.image import ImageDataGenerator\n",
        "from tensorflow.keras.optimizers import Adam\n",
        "\n",
        "from sklearn.metrics import classification_report, confusion_matrix\n",
        "\n",
        "import tensorflow as tf\n",
        "\n",
        "import cv2\n",
        "import os\n",
        "\n",
        "import numpy as np"
      ]
    },
    {
      "cell_type": "code",
      "execution_count": 2,
      "metadata": {},
      "outputs": [
        {
          "name": "stdout",
          "output_type": "stream",
          "text": [
            "2.8.0\n"
          ]
        }
      ],
      "source": [
        "import tensorflow as tf\n",
        "print(tf.version.VERSION)"
      ]
    },
    {
      "cell_type": "code",
      "execution_count": 3,
      "metadata": {},
      "outputs": [
        {
          "data": {
            "text/plain": [
              "'f:\\\\crop'"
            ]
          },
          "execution_count": 3,
          "metadata": {},
          "output_type": "execute_result"
        }
      ],
      "source": [
        "os.getcwd()"
      ]
    },
    {
      "cell_type": "code",
      "execution_count": null,
      "metadata": {},
      "outputs": [],
      "source": []
    },
    {
      "cell_type": "code",
      "execution_count": 4,
      "metadata": {
        "id": "P73cPUQibPCa"
      },
      "outputs": [],
      "source": [
        "labels = ['alluvial soil', 'black soil', 'desert soil', 'red soil','cinder soil']\n",
        "img_size = 224\n",
        "\n",
        "def get_data(data_dir):\n",
        "    data = []\n",
        "    for label in labels:\n",
        "        path = os.path.join(data_dir,label) \n",
        "        class_num = labels.index(label)\n",
        "        for img in os.listdir(path):\n",
        "            try:\n",
        "                img_arr = cv2.imread(os.path.join(path, img))[...,::-1]\n",
        "                resized_arr = cv2.resize(img_arr, (img_size, img_size))\n",
        "                # plt.imshow(resized_arr)\n",
        "              \n",
        "                data.append([resized_arr, class_num])\n",
        "            except:\n",
        "                print(Exception)\n",
        "    return np.array(data,dtype=object)\n",
        "\n"
      ]
    },
    {
      "cell_type": "code",
      "execution_count": 5,
      "metadata": {
        "colab": {
          "base_uri": "https://localhost:8080/"
        },
        "id": "9uqQwm_M42IK",
        "outputId": "543c045d-7c55-4769-8c03-25b95ba31a43"
      },
      "outputs": [],
      "source": [
        "train = get_data(r'dataset\\train')\n",
        "val= get_data(r'dataset\\test')"
      ]
    },
    {
      "cell_type": "code",
      "execution_count": 6,
      "metadata": {
        "colab": {
          "base_uri": "https://localhost:8080/"
        },
        "id": "2GOXVxPc6fqM",
        "outputId": "c1ef3619-2782-4aae-e390-3bae5bf94a65"
      },
      "outputs": [
        {
          "name": "stdout",
          "output_type": "stream",
          "text": [
            "121\n"
          ]
        }
      ],
      "source": [
        "print(len(val))"
      ]
    },
    {
      "cell_type": "code",
      "execution_count": 7,
      "metadata": {
        "colab": {
          "base_uri": "https://localhost:8080/",
          "height": 335
        },
        "id": "Hd0A0zyY80c9",
        "outputId": "7037d18b-17f1-4f6d-91a4-cb6d26d9e8f3"
      },
      "outputs": [
        {
          "name": "stderr",
          "output_type": "stream",
          "text": [
            "c:\\python version\\lib\\site-packages\\seaborn\\_decorators.py:36: FutureWarning: Pass the following variable as a keyword arg: x. From version 0.12, the only valid positional argument will be `data`, and passing other arguments without an explicit keyword will result in an error or misinterpretation.\n",
            "  warnings.warn(\n"
          ]
        },
        {
          "data": {
            "text/plain": [
              "<AxesSubplot:ylabel='count'>"
            ]
          },
          "execution_count": 7,
          "metadata": {},
          "output_type": "execute_result"
        },
        {
          "data": {
            "image/png": "[encoded data removed]",
            "text/plain": [
              "<Figure size 432x288 with 1 Axes>"
            ]
          },
          "metadata": {},
          "output_type": "display_data"
        }
      ],
      "source": [
        "l = []\n",
        "for i in train:\n",
        "    if(i[1] == 0):\n",
        "        l.append(\"alluvial soil\")\n",
        "    elif (i[1] == 1):\n",
        "        l.append(\"black soil\")\n",
        "    elif (i[1] == 2):\n",
        "        l.append(\"desert soil\")\n",
        "    elif(i[1]==3):\n",
        "        l.append(\"red soil\")\n",
        "    else:\n",
        "        l.append(\"cinder soil\") \n",
        "sns.set_style('darkgrid')\n",
        "sns.countplot(l)"
      ]
    },
    {
      "cell_type": "code",
      "execution_count": 8,
      "metadata": {},
      "outputs": [],
      "source": [
        "import random\n",
        "random.shuffle(train)"
      ]
    },
    {
      "cell_type": "code",
      "execution_count": 9,
      "metadata": {},
      "outputs": [
        {
          "data": {
            "text/plain": [
              "(636, 224, 224, 3)"
            ]
          },
          "execution_count": 9,
          "metadata": {},
          "output_type": "execute_result"
        }
      ],
      "source": [
        "from keras.utils import np_utils\n",
        "xtrain = []\n",
        "ytrain = []\n",
        "xval = []\n",
        "yval = []\n",
        "\n",
        "for feature, label in train:\n",
        "    xtrain.append(feature)\n",
        "    ytrain.append(label)\n",
        "\n",
        "for feature, label in val:\n",
        "    xval.append(feature)\n",
        "    yval.append(label)\n",
        "\n",
        "xtrain = np.array(xtrain) / 255\n",
        "xval = np.array(xval) / 255\n",
        "\n",
        "xtrain.shape"
      ]
    },
    {
      "cell_type": "code",
      "execution_count": 10,
      "metadata": {
        "id": "Jj6h8lG99ID7"
      },
      "outputs": [],
      "source": [
        "\n",
        "\n",
        "xtrain.reshape(-1, img_size, img_size, 3)\n",
        "ytrain = np.array(ytrain)\n",
        "\n",
        "xval.reshape(-1, img_size, img_size, 3)\n",
        "yval = np.array(yval)\n",
        "\n",
        "ytrain = keras.utils.np_utils.to_categorical(ytrain, 5)\n",
        "yval = keras.utils.np_utils.to_categorical(yval, 5)\n"
      ]
    },
    {
      "cell_type": "code",
      "execution_count": 11,
      "metadata": {},
      "outputs": [
        {
          "data": {
            "text/plain": [
              "(636, 224, 224, 3)"
            ]
          },
          "execution_count": 11,
          "metadata": {},
          "output_type": "execute_result"
        }
      ],
      "source": [
        "xtrain.shape"
      ]
    },
    {
      "cell_type": "code",
      "execution_count": 12,
      "metadata": {
        "colab": {
          "base_uri": "https://localhost:8080/"
        },
        "id": "zNYo9Ba_QKI8",
        "outputId": "b8af4ed9-2791-4985-cbf4-0ca4edffd350"
      },
      "outputs": [
        {
          "name": "stdout",
          "output_type": "stream",
          "text": [
            "121\n"
          ]
        }
      ],
      "source": [
        "print(len(xval))"
      ]
    },
    {
      "cell_type": "code",
      "execution_count": 13,
      "metadata": {
        "id": "cdmMvb_L_Pbo"
      },
      "outputs": [],
      "source": [
        "datagen = ImageDataGenerator(\n",
        "        featurewise_center=False,  # set input mean to 0 over the dataset\n",
        "        samplewise_center=False,  # set each sample mean to 0\n",
        "        featurewise_std_normalization=False,  # divide inputs by std of the dataset\n",
        "        samplewise_std_normalization=False,  # divide each input by its std\n",
        "        zca_whitening=False,  # apply ZCA whitening\n",
        "        rotation_range = 30,  # randomly rotate images in the range (degrees, 0 to 180)\n",
        "        zoom_range = 0.2, # Randomly zoom image \n",
        "        width_shift_range=0.1,  # randomly shift images horizontally (fraction of total width)\n",
        "        height_shift_range=0.1,  # randomly shift images vertically (fraction of total height)\n",
        "        horizontal_flip = True,  # randomly flip images\n",
        "        vertical_flip=False)  # randomly flip images\n",
        "\n",
        "\n",
        "datagen.fit(xtrain)"
      ]
    },
    {
      "cell_type": "code",
      "execution_count": 14,
      "metadata": {},
      "outputs": [
        {
          "data": {
            "text/plain": [
              "(636, 224, 224, 3)"
            ]
          },
          "execution_count": 14,
          "metadata": {},
          "output_type": "execute_result"
        }
      ],
      "source": [
        "xtrain.shape"
      ]
    },
    {
      "cell_type": "code",
      "execution_count": 15,
      "metadata": {
        "id": "hoMTvl_8_8YD"
      },
      "outputs": [],
      "source": [
        "# model= keras.models.Sequential()\n",
        "# model.add(keras.layers.Conv2D(kernel_size=(5,5), filters=32, activation='relu', input_shape=(224,224,3)))\n",
        "# model.add(keras.layers.MaxPool2D(2,2))\n",
        "# model.add(keras.layers.Conv2D(filters=32,kernel_size = (5,5),activation='relu'))\n",
        "# model.add(keras.layers.MaxPool2D(2,2))\n",
        "# model.add(keras.layers.Conv2D(filters=64,kernel_size = (3,3),activation='relu'))\n",
        "# model.add(keras.layers.MaxPool2D(2,2))\n",
        "# model.add(keras.layers.Conv2D(filters=64,kernel_size = (3,3),activation='relu'))\n",
        "# model.add(keras.layers.MaxPool2D(2,2))\n",
        "# model.add(keras.layers.Flatten())\n",
        "\n",
        "# model.add(keras.layers.Dense(128,activation='relu',input_shape = (224,224,3)))\n",
        "# model.add(keras.layers.Dense(128,activation='relu'))\n",
        "# model.add(keras.layers.Dense(5,activation = 'softmax'))\n",
        "    \n",
        "# model.compile(\n",
        "#               loss='categorical_crossentropy', \n",
        "#               metrics=['accuracy'],\n",
        "#               optimizer='adam'\n",
        "#              )\n",
        "\n",
        "\n",
        "model = keras.models.Sequential()\n",
        "model.add(keras.layers.Flatten(input_shape=(224,224,3)))\n",
        "model.add(keras.layers.BatchNormalization())\n",
        "model.add(keras.layers.Dense(5))\n",
        "model.add(keras.layers.BatchNormalization())\n",
        "model.add(keras.layers.Activation('softmax'))\n",
        "\n",
        "model.compile(tf.keras.optimizers.Adam(learning_rate=1e-5), 'categorical_crossentropy', metrics=['accuracy'])"
      ]
    },
    {
      "cell_type": "code",
      "execution_count": 16,
      "metadata": {
        "colab": {
          "base_uri": "https://localhost:8080/"
        },
        "id": "tvteCAXoADCP",
        "outputId": "d246583c-1ef3-44c0-abbe-dc6f46666180"
      },
      "outputs": [
        {
          "name": "stdout",
          "output_type": "stream",
          "text": [
            "Model: \"sequential\"\n",
            "_________________________________________________________________\n",
            " Layer (type)                Output Shape              Param #   \n",
            "=================================================================\n",
            " flatten (Flatten)           (None, 150528)            0         \n",
            "                                                                 \n",
            " batch_normalization (BatchN  (None, 150528)           602112    \n",
            " ormalization)                                                   \n",
            "                                                                 \n",
            " dense (Dense)               (None, 5)                 752645    \n",
            "                                                                 \n",
            " batch_normalization_1 (Batc  (None, 5)                20        \n",
            " hNormalization)                                                 \n",
            "                                                                 \n",
            " activation (Activation)     (None, 5)                 0         \n",
            "                                                                 \n",
            "=================================================================\n",
            "Total params: 1,354,777\n",
            "Trainable params: 1,053,711\n",
            "Non-trainable params: 301,066\n",
            "_________________________________________________________________\n"
          ]
        }
      ],
      "source": [
        "model.summary()"
      ]
    },
    {
      "cell_type": "code",
      "execution_count": 17,
      "metadata": {
        "colab": {
          "base_uri": "https://localhost:8080/"
        },
        "id": "ifRqo3iwAIal",
        "outputId": "1006251b-151b-4c9f-fdc4-08b642b8eef0"
      },
      "outputs": [
        {
          "name": "stdout",
          "output_type": "stream",
          "text": [
            "Epoch 1/5\n",
            "20/20 [==============================] - 7s 237ms/step - loss: 1.4704 - accuracy: 0.4403 - val_loss: 2.1688 - val_accuracy: 0.1240\n",
            "Epoch 2/5\n",
            "20/20 [==============================] - 2s 105ms/step - loss: 1.1829 - accuracy: 0.5582 - val_loss: 1.5393 - val_accuracy: 0.2893\n",
            "Epoch 3/5\n",
            "20/20 [==============================] - 2s 106ms/step - loss: 1.0631 - accuracy: 0.6777 - val_loss: 1.4868 - val_accuracy: 0.3802\n",
            "Epoch 4/5\n",
            "20/20 [==============================] - 2s 107ms/step - loss: 0.9995 - accuracy: 0.7186 - val_loss: 1.4450 - val_accuracy: 0.5372\n",
            "Epoch 5/5\n",
            "20/20 [==============================] - 2s 101ms/step - loss: 0.9116 - accuracy: 0.7799 - val_loss: 1.4290 - val_accuracy: 0.5455\n"
          ]
        }
      ],
      "source": [
        "history = model.fit(xtrain,ytrain,epochs = 5, validation_data = (xval, yval))"
      ]
    },
    {
      "cell_type": "code",
      "execution_count": 18,
      "metadata": {
        "colab": {
          "base_uri": "https://localhost:8080/",
          "height": 295
        },
        "id": "mH6wveWsAM5t",
        "outputId": "77fa7b25-1171-4330-827a-30a744377c7f"
      },
      "outputs": [
        {
          "data": {
            "image/png": "[encoded data removed]",
            "text/plain": [
              "<Figure size 432x288 with 1 Axes>"
            ]
          },
          "metadata": {},
          "output_type": "display_data"
        }
      ],
      "source": [
        "# summarize history for accuracy\n",
        "plt.plot(history.history['accuracy'])\n",
        "plt.plot(history.history['val_accuracy'])\n",
        "plt.title('model accuracy')\n",
        "plt.ylabel('accuracy')\n",
        "plt.xlabel('epoch')\n",
        "plt.legend(['train', 'test'], loc='upper left')\n",
        "plt.show()"
      ]
    },
    {
      "cell_type": "code",
      "execution_count": 19,
      "metadata": {
        "colab": {
          "base_uri": "https://localhost:8080/",
          "height": 295
        },
        "id": "shLx2GcxJdxX",
        "outputId": "01be8f2c-e4fa-4b8b-fbab-2bbc1d03309f"
      },
      "outputs": [
        {
          "data": {
            "image/png": "[encoded data removed]",
            "text/plain": [
              "<Figure size 432x288 with 1 Axes>"
            ]
          },
          "metadata": {},
          "output_type": "display_data"
        }
      ],
      "source": [
        "# summarize history for loss\n",
        "plt.plot(history.history['loss'])\n",
        "plt.plot(history.history['val_loss'])\n",
        "plt.title('model loss')\n",
        "plt.ylabel('loss')\n",
        "plt.xlabel('epoch')\n",
        "plt.legend(['train', 'test'], loc='upper left')\n",
        "plt.show()"
      ]
    },
    {
      "cell_type": "code",
      "execution_count": 20,
      "metadata": {
        "colab": {
          "base_uri": "https://localhost:8080/"
        },
        "id": "oUnRdXqiLVAy",
        "outputId": "81ae8607-d3ce-4414-8da4-82dd994c306f"
      },
      "outputs": [
        {
          "name": "stdout",
          "output_type": "stream",
          "text": [
            "4/4 [==============================] - 0s 15ms/step - loss: 1.4290 - accuracy: 0.5455\n",
            "[1.4290118217468262, 0.5454545617103577]\n"
          ]
        }
      ],
      "source": [
        "# Evaluating model on validation data\n",
        "evaluate = model.evaluate(xval,yval)\n",
        "print(evaluate)"
      ]
    },
    {
      "cell_type": "code",
      "execution_count": 21,
      "metadata": {
        "colab": {
          "base_uri": "https://localhost:8080/"
        },
        "id": "wFf9_HRoLY6J",
        "outputId": "24bb6117-d1f8-41cd-fd2d-3d3894c41296"
      },
      "outputs": [
        {
          "name": "stdout",
          "output_type": "stream",
          "text": [
            "Actual :-  [[1. 0. 0. 0. 0.]]\n",
            "Predicted :-  alluvial\n"
          ]
        }
      ],
      "source": [
        "checkImage = xval[0:1]\n",
        "checklabel = yval[0:1]\n",
        "\n",
        "predict = model.predict(np.array(checkImage))\n",
        "\n",
        "output = { 0:'alluvial',1:'black',2:'desert',3:'red',4:'cinder'}\n",
        "\n",
        "print(\"Actual :- \",checklabel)\n",
        "print(\"Predicted :- \",output[np.argmax(predict)])"
      ]
    },
    {
      "cell_type": "code",
      "execution_count": 22,
      "metadata": {
        "id": "wysNHClBLhVZ"
      },
      "outputs": [],
      "source": [
        "model.save(\"soilClassify.h5\")"
      ]
    },
    {
      "cell_type": "code",
      "execution_count": null,
      "metadata": {
        "id": "9H2J6jnZWhSz"
      },
      "outputs": [],
      "source": []
    }
  ],
  "metadata": {
    "colab": {
      "name": "soil_classify.ipynb",
      "provenance": []
    },
    "interpreter": {
      "hash": "01c8bd7cd1e02b81d7ee905f248bffeace0f68f9bf6bb25bae1135932744aad8"
    },
    "kernelspec": {
      "display_name": "Python 3.10.2 64-bit",
      "language": "python",
      "name": "python3"
    },
    "language_info": {
      "codemirror_mode": {
        "name": "ipython",
        "version": 3
      },
      "file_extension": ".py",
      "mimetype": "text/x-python",
      "name": "python",
      "nbconvert_exporter": "python",
      "pygments_lexer": "ipython3",
      "version": "3.10.2"
    }
  },
  "nbformat": 4,
  "nbformat_minor": 0
}
